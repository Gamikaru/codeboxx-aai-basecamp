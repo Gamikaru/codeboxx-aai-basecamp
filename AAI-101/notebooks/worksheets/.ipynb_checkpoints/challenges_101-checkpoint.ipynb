{
 "cells": [
  {
   "cell_type": "markdown",
   "id": "52b85277",
   "metadata": {
    "editable": true,
    "slideshow": {
     "slide_type": ""
    },
    "tags": []
   },
   "source": [
    "# **Exploring Pandas: Common Data Operations**\n",
    "\n",
    "Welcome to this Jupyter Notebook! 🚀 In this notebook, you'll practice some of the most commonly used operations in the **Pandas** library using **two datasets**:\n",
    "1. **../../data/students.csv** (CSV)\n",
    "2. **../../data/enrollments.json** (JSON)\n",
    "\n",
    "These files should be placed in the same folder as this notebook. By the end, you'll have a strong grasp of common data manipulation tasks, and you'll even merge these two datasets on a common key.\n",
    "\n",
    "Before starting, make sure you have **Pandas** installed. (It should come preinstalled in Anaconda!)\n",
    "\n",
    "If pandas is not installed, follow the instructions below.\n",
    "\n",
    "---\n",
    "\n",
    "## **Checking if Pandas is Installed in Your Conda Environment**\n",
    "\n",
    "Before proceeding, check if Pandas is installed in your Conda environment by running the following command in a **Jupyter Notebook** cell:"
   ]
  },
  {
   "cell_type": "code",
   "execution_count": 3,
   "id": "a070d316",
   "metadata": {},
   "outputs": [
    {
     "name": "stdout",
     "output_type": "stream",
     "text": [
      "2.2.2\n"
     ]
    }
   ],
   "source": [
    "import pandas as pd\n",
    "print(pd.__version__)"
   ]
  },
  {
   "cell_type": "markdown",
   "id": "692ffe7d",
   "metadata": {},
   "source": [
    "If this runs without errors and prints a version number, Pandas is installed. If you see an **ImportError**, install Pandas using one of the following methods:\n",
    "\n",
    "### **For Conda Users (Recommended)**\n",
    "Run this in your terminal or Anaconda Prompt:\n",
    "```\n",
    "conda install pandas\n",
    "```\n",
    "\n",
    "### **Using Conda-Forge (If Needed)**\n",
    "If you encounter issues, you can install Pandas from **Conda-Forge**, a community-maintained repository with up-to-date packages:\n",
    "```\n",
    "conda install -c conda-forge pandas\n",
    "```\n",
    "\n",
    "### **For Pip Users**\n",
    "If you're using a virtual environment outside Conda, install Pandas via Pip:\n",
    "```\n",
    "pip install pandas\n",
    "```\n",
    "\n",
    "# Now, let’s dive in! 🏊‍♂️\n",
    "\n",
    "---\n"
   ]
  },
  {
   "cell_type": "markdown",
   "id": "081fc09d",
   "metadata": {},
   "source": [
    "## **1. Load a CSV file into a Pandas DataFrame**\n",
    "\n",
    "First, let's **import Pandas** and load the datasets. Two datasets have been prepared for you:\n",
    "\n",
    "- `students.csv`\n",
    "- `enrollments.json`\n",
    "\n",
    "You will use these two datasets for the following challenges.\n",
    "\n",
    "**💡 Hint:** If the file is in the same directory as your notebook, you can just use the filename. Otherwise, provide the full file path.\n"
   ]
  },
  {
   "cell_type": "code",
   "execution_count": null,
   "id": "9e28b9e3",
   "metadata": {
    "lines_to_next_cell": 2
   },
   "outputs": [],
   "source": [
    "# your code here"
   ]
  },
  {
   "cell_type": "code",
   "execution_count": null,
   "id": "2f79dccb-ed26-46d4-bd25-44d60ee1e8c9",
   "metadata": {
    "lines_to_next_cell": 2
   },
   "outputs": [],
   "source": [
    "# your code here"
   ]
  },
  {
   "cell_type": "markdown",
   "id": "bb23c619",
   "metadata": {},
   "source": [
    "## **2. View the First and Last Few Rows of Each DataFrame**\n",
    "\n",
    "Check out how your data looks. One method previews the first few records, while another method previews the last few. You can specify the number of rows you want to see by explicitly passing an integer argument.\n",
    "\n",
    "**📝 Tip:** This is a great time to confirm that columns loaded correctly and to spot any obvious data issues (strange values, mismatched columns, etc.)."
   ]
  },
  {
   "cell_type": "code",
   "execution_count": null,
   "id": "ba59705d",
   "metadata": {
    "lines_to_next_cell": 2
   },
   "outputs": [],
   "source": [
    "# your code here"
   ]
  },
  {
   "cell_type": "code",
   "execution_count": null,
   "id": "7c09cb9c",
   "metadata": {
    "lines_to_next_cell": 2
   },
   "outputs": [],
   "source": [
    "# your code here"
   ]
  },
  {
   "cell_type": "code",
   "execution_count": null,
   "id": "0752625a",
   "metadata": {
    "lines_to_next_cell": 2
   },
   "outputs": [],
   "source": [
    "# your code here"
   ]
  },
  {
   "cell_type": "code",
   "execution_count": null,
   "id": "023f34d2",
   "metadata": {},
   "outputs": [],
   "source": [
    "# your code here"
   ]
  },
  {
   "cell_type": "markdown",
   "id": "d831b3ca",
   "metadata": {},
   "source": [
    "## **3. Check the Shape of Each DataFrame**\n",
    "\n",
    "To understand the **size** of your dataset(s), use the attribute that returns `(number_of_rows, number_of_columns)`.\n",
    "\n",
    "**📝 Tip:** Note any big differences in row counts that might affect merging later.\n"
   ]
  },
  {
   "cell_type": "code",
   "execution_count": null,
   "id": "013abc56",
   "metadata": {
    "lines_to_next_cell": 2
   },
   "outputs": [],
   "source": [
    "# your code here\n"
   ]
  },
  {
   "cell_type": "code",
   "execution_count": null,
   "id": "1bb8e075",
   "metadata": {},
   "outputs": [],
   "source": [
    "# your code here"
   ]
  },
  {
   "cell_type": "markdown",
   "id": "b716bb85",
   "metadata": {},
   "source": [
    "## **4. Get a Summary of Each DataFrame**\n",
    "\n",
    "Explore one or two approaches that provide:\n",
    "\n",
    "-   **Column names**\n",
    "-   **Data types**\n",
    "-   **Basic statistics about numerical columns**\n",
    "-   **Number of non-null values**\n",
    "\n",
    "**📝 Tip:** One approach might give an overview of columns and data types; another might summarize numerical columns. This step helps you detect columns that might need cleaning."
   ]
  },
  {
   "cell_type": "code",
   "execution_count": null,
   "id": "54e294b7",
   "metadata": {
    "lines_to_next_cell": 2
   },
   "outputs": [],
   "source": [
    "# your code here"
   ]
  },
  {
   "cell_type": "code",
   "execution_count": null,
   "id": "ab9c1939",
   "metadata": {
    "lines_to_next_cell": 2
   },
   "outputs": [],
   "source": [
    "# your code here"
   ]
  },
  {
   "cell_type": "code",
   "execution_count": null,
   "id": "08f3cba4",
   "metadata": {
    "lines_to_next_cell": 2
   },
   "outputs": [],
   "source": [
    "# your code here"
   ]
  },
  {
   "cell_type": "code",
   "execution_count": null,
   "id": "69635b89",
   "metadata": {},
   "outputs": [],
   "source": [
    "# your code here"
   ]
  },
  {
   "cell_type": "markdown",
   "id": "75567b6f",
   "metadata": {},
   "source": [
    "## **5. Check for Missing Values**\n",
    "\n",
    "Determine if your dataset has any missing or null values by **counting** them. Notice which columns have many missing entries and plan how to handle them.\n",
    "\n",
    "**📝 Tip:** Some columns might look present but contain empty strings. Identify them if possible.\n"
   ]
  },
  {
   "cell_type": "code",
   "execution_count": null,
   "id": "8f7e010c",
   "metadata": {
    "lines_to_next_cell": 2
   },
   "outputs": [],
   "source": [
    "# your code here"
   ]
  },
  {
   "cell_type": "code",
   "execution_count": null,
   "id": "2760201d",
   "metadata": {
    "lines_to_next_cell": 2
   },
   "outputs": [],
   "source": [
    "# your code here"
   ]
  },
  {
   "cell_type": "code",
   "execution_count": null,
   "id": "00672862",
   "metadata": {},
   "outputs": [],
   "source": [
    "# your code here"
   ]
  },
  {
   "cell_type": "markdown",
   "id": "35cf28cb",
   "metadata": {},
   "source": [
    "## **6. Rename Columns for Clarity and Consistency**\n",
    "\n",
    "Some columns may have **spaces** or **capitalization** that complicates your analysis. For example, if you see `\"current gpa\"` or `\"First_Name\"`, consider renaming them (e.g., `\"current_gpa\"`, `\"first_name\"`) for ease of use.\n",
    "\n",
    "**📝 Tip:** Consistent naming conventions help minimize typos and KeyErrors."
   ]
  },
  {
   "cell_type": "code",
   "execution_count": null,
   "id": "4349baa9",
   "metadata": {
    "lines_to_next_cell": 2
   },
   "outputs": [],
   "source": [
    "# your code here"
   ]
  },
  {
   "cell_type": "code",
   "execution_count": null,
   "id": "dcf1d51a",
   "metadata": {
    "lines_to_next_cell": 2
   },
   "outputs": [],
   "source": [
    "# your code here"
   ]
  },
  {
   "cell_type": "code",
   "execution_count": null,
   "id": "d2003486",
   "metadata": {
    "lines_to_next_cell": 2
   },
   "outputs": [],
   "source": [
    "# your code here"
   ]
  },
  {
   "cell_type": "code",
   "execution_count": null,
   "id": "e7706d1b",
   "metadata": {},
   "outputs": [],
   "source": [
    "# your code here"
   ]
  },
  {
   "cell_type": "markdown",
   "id": "a0d0b232",
   "metadata": {},
   "source": [
    "## **7. Convert Data Types Where Needed**\n",
    "\n",
    "Check which columns should be numeric or datetime. Columns like `admission_year` or `course_fee` might be read as **strings** by default. Convert them to numerical or date formats if necessary.\n",
    "\n",
    "**📝 Tip:** Make sure you handle errors gracefully (e.g., set `errors='coerce'` to turn invalid entries into NaN)."
   ]
  },
  {
   "cell_type": "code",
   "execution_count": null,
   "id": "5f177231",
   "metadata": {
    "lines_to_next_cell": 2
   },
   "outputs": [],
   "source": [
    "# your code here"
   ]
  },
  {
   "cell_type": "code",
   "execution_count": null,
   "id": "6a699f8f",
   "metadata": {
    "lines_to_next_cell": 2
   },
   "outputs": [],
   "source": [
    "# your code here"
   ]
  },
  {
   "cell_type": "code",
   "execution_count": null,
   "id": "549fa20a",
   "metadata": {},
   "outputs": [],
   "source": [
    "# your code here"
   ]
  },
  {
   "cell_type": "markdown",
   "id": "5c9b9c86",
   "metadata": {},
   "source": [
    "## **8. Fill Missing Values with a Specified Value or Method**\n",
    "\n",
    "Instead of **dropping** missing values, consider **replacing** them. For instance:\n",
    "\n",
    "-   A string like `\"Unknown\"` for missing text\n",
    "-   A **mean** or **median** for missing numeric columns\n",
    "-   A **forward** or **backward fill** if appropriate"
   ]
  },
  {
   "cell_type": "code",
   "execution_count": null,
   "id": "0ebd2f7b",
   "metadata": {
    "lines_to_next_cell": 2
   },
   "outputs": [],
   "source": [
    "# your code here"
   ]
  },
  {
   "cell_type": "code",
   "execution_count": null,
   "id": "78b57f5d",
   "metadata": {
    "lines_to_next_cell": 2
   },
   "outputs": [],
   "source": [
    "# your code here"
   ]
  },
  {
   "cell_type": "code",
   "execution_count": null,
   "id": "ed35e041",
   "metadata": {
    "lines_to_next_cell": 2
   },
   "outputs": [],
   "source": [
    "# your code here"
   ]
  },
  {
   "cell_type": "code",
   "execution_count": null,
   "id": "d2f0b58b",
   "metadata": {},
   "outputs": [],
   "source": [
    "# your code here"
   ]
  },
  {
   "cell_type": "markdown",
   "id": "22ebe829",
   "metadata": {},
   "source": [
    "## **9. Drop Rows or Columns with Missing Values (If Needed)**\n",
    "\n",
    "After considering which values can be filled, you might choose to **remove** rows or columns that are missing too much data or can’t be fixed.\n",
    "\n",
    "**📝 Tip:** Decide carefully and confirm you don’t need the dropped information. Use `inplace=True` or keep a separate DataFrame if you want to preserve the original data."
   ]
  },
  {
   "cell_type": "code",
   "execution_count": null,
   "id": "92e7650f",
   "metadata": {
    "lines_to_next_cell": 2
   },
   "outputs": [],
   "source": [
    "# your code here"
   ]
  },
  {
   "cell_type": "code",
   "execution_count": null,
   "id": "08a7923f",
   "metadata": {
    "lines_to_next_cell": 2
   },
   "outputs": [],
   "source": [
    "# your code here"
   ]
  },
  {
   "cell_type": "code",
   "execution_count": null,
   "id": "d450d8e8",
   "metadata": {
    "lines_to_next_cell": 2
   },
   "outputs": [],
   "source": [
    "# your code here"
   ]
  },
  {
   "cell_type": "code",
   "execution_count": null,
   "id": "170d366e",
   "metadata": {},
   "outputs": [],
   "source": [
    "# your code here"
   ]
  },
  {
   "cell_type": "markdown",
   "id": "ea28c50f",
   "metadata": {},
   "source": [
    "## **10. Filter Rows Based on a Condition**\n",
    "\n",
    "Now that columns like `admission_year` and `course_fee` (or `current_gpa`) are numeric, experiment with filtering. For example:\n",
    "\n",
    "-   Students whose `admission_year` is after a certain date\n",
    "-   Enrollments for `Spring 2026`"
   ]
  },
  {
   "cell_type": "code",
   "execution_count": null,
   "id": "ba8fe133",
   "metadata": {
    "lines_to_next_cell": 2
   },
   "outputs": [],
   "source": [
    "# your code here"
   ]
  },
  {
   "cell_type": "code",
   "execution_count": null,
   "id": "11bc5b09",
   "metadata": {
    "lines_to_next_cell": 2
   },
   "outputs": [],
   "source": [
    "# your code here"
   ]
  },
  {
   "cell_type": "code",
   "execution_count": null,
   "id": "f7960dd7",
   "metadata": {
    "lines_to_next_cell": 2
   },
   "outputs": [],
   "source": [
    "# your code here"
   ]
  },
  {
   "cell_type": "code",
   "execution_count": null,
   "id": "56f514d4",
   "metadata": {},
   "outputs": [],
   "source": [
    "# your code here"
   ]
  },
  {
   "cell_type": "markdown",
   "id": "4da1819e",
   "metadata": {},
   "source": [
    "## **11. Select Specific Columns from Each DataFrame**\n",
    "\n",
    "Often, you don’t need all columns at once. For instance, you might extract only:\n",
    "\n",
    "-   `\"student_id\"`, `\"First_Name\"`, `\"last_name\"`, and `\"current_gpa\"` from `students.csv`\n",
    "-   `\"stud_ref_id\"`, `\"course_title\"`, `\"instructor_name\"`, `\"course_fee\"` from `enrollments.json`"
   ]
  },
  {
   "cell_type": "code",
   "execution_count": null,
   "id": "872c92ae",
   "metadata": {
    "lines_to_next_cell": 2
   },
   "outputs": [],
   "source": [
    "# your code here"
   ]
  },
  {
   "cell_type": "code",
   "execution_count": null,
   "id": "d1677b96",
   "metadata": {
    "lines_to_next_cell": 2
   },
   "outputs": [],
   "source": [
    "# your code here"
   ]
  },
  {
   "cell_type": "code",
   "execution_count": null,
   "id": "37cc3834",
   "metadata": {
    "lines_to_next_cell": 2
   },
   "outputs": [],
   "source": [
    "# your code here"
   ]
  },
  {
   "cell_type": "code",
   "execution_count": null,
   "id": "490b379d",
   "metadata": {},
   "outputs": [],
   "source": [
    "# your code here"
   ]
  },
  {
   "cell_type": "markdown",
   "id": "012b0c54",
   "metadata": {},
   "source": [
    "## **12. Sort the DataFrame by One or More Columns**\n",
    "\n",
    "Sorting can help you identify which records have the highest or lowest values. For example:\n",
    "\n",
    "-   Sort the **students** DataFrame by `\"current_gpa\"` in descending order\n",
    "-   Sort the **enrollments** DataFrame by `\"course_fee\"` in ascending order\n",
    "\n",
    "**📝 Tip:** You can sort by multiple columns if needed.\n"
   ]
  },
  {
   "cell_type": "code",
   "execution_count": null,
   "id": "614f00fc",
   "metadata": {
    "lines_to_next_cell": 2
   },
   "outputs": [],
   "source": [
    "# your code here"
   ]
  },
  {
   "cell_type": "code",
   "execution_count": null,
   "id": "bdb4c756",
   "metadata": {
    "lines_to_next_cell": 2
   },
   "outputs": [],
   "source": [
    "# your code here"
   ]
  },
  {
   "cell_type": "code",
   "execution_count": null,
   "id": "fa08f341",
   "metadata": {
    "lines_to_next_cell": 2
   },
   "outputs": [],
   "source": [
    "# your code here"
   ]
  },
  {
   "cell_type": "code",
   "execution_count": null,
   "id": "89e0b245",
   "metadata": {},
   "outputs": [],
   "source": [
    "# your code here"
   ]
  },
  {
   "cell_type": "markdown",
   "id": "eb5d1e3f",
   "metadata": {},
   "source": [
    "## **13. Group Data by a Column and Compute Aggregate Functions**\n",
    "\n",
    "Grouping lets you see aggregated info by category. For example, group **students** by `\"majorField\"` and compute the average `\"current_gpa\"`. In **enrollments**, group by `\"instructor_name\"` and compute the average `\"course_fee\"`.\n",
    "\n",
    "**📝 Tip:** Aggregations might include `.mean()`, `.sum()`, `.count()`, etc."
   ]
  },
  {
   "cell_type": "code",
   "execution_count": null,
   "id": "518157a2",
   "metadata": {
    "lines_to_next_cell": 2
   },
   "outputs": [],
   "source": [
    "# your code here"
   ]
  },
  {
   "cell_type": "code",
   "execution_count": null,
   "id": "37cb3a9a",
   "metadata": {
    "lines_to_next_cell": 2
   },
   "outputs": [],
   "source": [
    "# your code here"
   ]
  },
  {
   "cell_type": "code",
   "execution_count": null,
   "id": "f691e36d",
   "metadata": {
    "lines_to_next_cell": 2
   },
   "outputs": [],
   "source": [
    "# your code here"
   ]
  },
  {
   "cell_type": "code",
   "execution_count": null,
   "id": "8cf82529",
   "metadata": {},
   "outputs": [],
   "source": [
    "# your code here"
   ]
  },
  {
   "cell_type": "markdown",
   "id": "523849b9",
   "metadata": {},
   "source": [
    "## **14. Apply a Custom Function**\n",
    "\n",
    "Define a normal Python function to transform data in a column. For example, title-case a name or uppercase a field. Apply that function to each element in the column.\n",
    "\n",
    "**📝 Tip:** If your function references another library call or has complex logic, define it above and then use `.apply(...)` with your function name. Once you've done this, see if you do this using lamda notation. "
   ]
  },
  {
   "cell_type": "code",
   "execution_count": null,
   "id": "b9714884",
   "metadata": {
    "lines_to_next_cell": 2
   },
   "outputs": [],
   "source": [
    "# your code here"
   ]
  },
  {
   "cell_type": "code",
   "execution_count": null,
   "id": "aaf82dd3",
   "metadata": {
    "lines_to_next_cell": 2
   },
   "outputs": [],
   "source": [
    "# your code here"
   ]
  },
  {
   "cell_type": "code",
   "execution_count": null,
   "id": "77041ef8",
   "metadata": {
    "lines_to_next_cell": 2
   },
   "outputs": [],
   "source": [
    "# your code here"
   ]
  },
  {
   "cell_type": "code",
   "execution_count": null,
   "id": "65d5741a",
   "metadata": {},
   "outputs": [],
   "source": [
    "# your code here"
   ]
  },
  {
   "cell_type": "markdown",
   "id": "0c240863",
   "metadata": {},
   "source": [
    "## **15. Create a New Column Based on Existing Ones**\n",
    "\n",
    "Use existing columns to generate new ones. For instance, combine `\"First_Name\"` and `\"last_name\"` into `\"full_name\"`, or compute `\"fees_after_tax\"` in enrollments if you assume a tax rate."
   ]
  },
  {
   "cell_type": "code",
   "execution_count": null,
   "id": "9d7d945d",
   "metadata": {
    "lines_to_next_cell": 2
   },
   "outputs": [],
   "source": [
    "# your code here"
   ]
  },
  {
   "cell_type": "code",
   "execution_count": null,
   "id": "c0a7ed4a",
   "metadata": {
    "lines_to_next_cell": 2
   },
   "outputs": [],
   "source": [
    "# your code here"
   ]
  },
  {
   "cell_type": "code",
   "execution_count": null,
   "id": "04b685c2",
   "metadata": {
    "lines_to_next_cell": 2
   },
   "outputs": [],
   "source": [
    "# your code here"
   ]
  },
  {
   "cell_type": "code",
   "execution_count": null,
   "id": "ecc75bf3",
   "metadata": {},
   "outputs": [],
   "source": [
    "# your code here"
   ]
  },
  {
   "cell_type": "markdown",
   "id": "b6cceef0",
   "metadata": {},
   "source": [
    "## **16. Merge Two DataFrames on a Common Column**\n",
    "\n",
    "Combine `students.csv` and `enrollments.json` by matching:\n",
    "\n",
    "-   `stu[\"student_id\"]`\n",
    "-   `enr[\"stud_ref_id\"]` (or rename it first)\n",
    "\n",
    "Check the shape of the merged DataFrame afterward to ensure it merged as expected.\n"
   ]
  },
  {
   "cell_type": "code",
   "execution_count": null,
   "id": "c5564cfe",
   "metadata": {
    "lines_to_next_cell": 2
   },
   "outputs": [],
   "source": [
    "# your code here"
   ]
  },
  {
   "cell_type": "code",
   "execution_count": null,
   "id": "ed1d7bcd",
   "metadata": {
    "lines_to_next_cell": 2
   },
   "outputs": [],
   "source": [
    "# your code here"
   ]
  },
  {
   "cell_type": "code",
   "execution_count": null,
   "id": "8dcfcaa6",
   "metadata": {
    "lines_to_next_cell": 2
   },
   "outputs": [],
   "source": [
    "# your code here"
   ]
  },
  {
   "cell_type": "code",
   "execution_count": null,
   "id": "e289eda7",
   "metadata": {},
   "outputs": [],
   "source": [
    "# your code here"
   ]
  },
  {
   "cell_type": "markdown",
   "id": "f551624a",
   "metadata": {},
   "source": [
    "## **17. Remove Duplicate Rows**\n",
    "\n",
    "When merging or concatenating multiple files, duplicates can crop up. Identify them and remove if needed. This might be especially important if the same student or enrollment is listed more than once."
   ]
  },
  {
   "cell_type": "code",
   "execution_count": null,
   "id": "2e45dae4",
   "metadata": {
    "lines_to_next_cell": 2
   },
   "outputs": [],
   "source": [
    "# your code here"
   ]
  },
  {
   "cell_type": "code",
   "execution_count": null,
   "id": "684d5e9e",
   "metadata": {
    "lines_to_next_cell": 2
   },
   "outputs": [],
   "source": [
    "# your code here"
   ]
  },
  {
   "cell_type": "code",
   "execution_count": null,
   "id": "a0a4913f",
   "metadata": {
    "lines_to_next_cell": 2
   },
   "outputs": [],
   "source": [
    "# your code here"
   ]
  },
  {
   "cell_type": "code",
   "execution_count": null,
   "id": "3e440ade",
   "metadata": {},
   "outputs": [],
   "source": [
    "# your code here"
   ]
  },
  {
   "cell_type": "markdown",
   "id": "ab305393",
   "metadata": {},
   "source": [
    "## **18. Additional Data Cleaning**\n",
    "\n",
    "Now that you’ve merged or manipulated your data, do a quick final pass:\n",
    "\n",
    "-   Fix any remaining oddities (e.g., negative phone numbers or impossible dates)\n",
    "-   Normalize columns further (e.g., standardize text formatting)\n",
    "\n",
    "**📝 Tip:** You might revisit previous steps if new issues appear.\n"
   ]
  },
  {
   "cell_type": "code",
   "execution_count": null,
   "id": "9622883a",
   "metadata": {
    "lines_to_next_cell": 2
   },
   "outputs": [],
   "source": [
    "# your code here"
   ]
  },
  {
   "cell_type": "code",
   "execution_count": null,
   "id": "1a9e28f4",
   "metadata": {
    "lines_to_next_cell": 2
   },
   "outputs": [],
   "source": [
    "# your code here"
   ]
  },
  {
   "cell_type": "code",
   "execution_count": null,
   "id": "3237121b",
   "metadata": {
    "lines_to_next_cell": 2
   },
   "outputs": [],
   "source": [
    "# your code here"
   ]
  },
  {
   "cell_type": "code",
   "execution_count": null,
   "id": "29c0d156",
   "metadata": {},
   "outputs": [],
   "source": [
    "# your code here"
   ]
  },
  {
   "cell_type": "markdown",
   "id": "33c2ac37",
   "metadata": {},
   "source": [
    "## **19. Save the Cleaned and Merged DataFrame to a New CSV File**\n",
    "\n",
    "Finally, when you’re satisfied with your cleaned data, save it. Remember to avoid writing the index as a separate column unless you want it."
   ]
  },
  {
   "cell_type": "code",
   "execution_count": null,
   "id": "64986045",
   "metadata": {
    "lines_to_next_cell": 2
   },
   "outputs": [],
   "source": [
    "# your code here"
   ]
  },
  {
   "cell_type": "code",
   "execution_count": null,
   "id": "afe950ec",
   "metadata": {
    "lines_to_next_cell": 2
   },
   "outputs": [],
   "source": [
    "# your code here"
   ]
  },
  {
   "cell_type": "code",
   "execution_count": null,
   "id": "c8a656d5",
   "metadata": {
    "lines_to_next_cell": 2
   },
   "outputs": [],
   "source": [
    "# your code here"
   ]
  },
  {
   "cell_type": "code",
   "execution_count": null,
   "id": "bf520a67",
   "metadata": {},
   "outputs": [],
   "source": [
    "# your code here"
   ]
  },
  {
   "cell_type": "markdown",
   "id": "462cdf88",
   "metadata": {},
   "source": [
    "## **20. Explore Further Analyses (Optional)**\n",
    "\n",
    "Now that your data is in great shape, try some optional challenges:\n",
    "\n",
    "-   Generate charts or visualizations\n",
    "-   Perform advanced filtering or grouping\n",
    "-   Create pivot tables\n",
    "-   Or anything else that interests you!"
   ]
  },
  {
   "cell_type": "code",
   "execution_count": null,
   "id": "da0f2e54",
   "metadata": {
    "lines_to_next_cell": 2
   },
   "outputs": [],
   "source": [
    "# your code here"
   ]
  },
  {
   "cell_type": "code",
   "execution_count": null,
   "id": "5df20082",
   "metadata": {
    "lines_to_next_cell": 2
   },
   "outputs": [],
   "source": [
    "# your code here"
   ]
  },
  {
   "cell_type": "code",
   "execution_count": null,
   "id": "0c779f95",
   "metadata": {
    "lines_to_next_cell": 2
   },
   "outputs": [],
   "source": [
    "# your code here"
   ]
  },
  {
   "cell_type": "code",
   "execution_count": null,
   "id": "f8fdd8d4",
   "metadata": {},
   "outputs": [],
   "source": [
    "# your code here"
   ]
  },
  {
   "cell_type": "markdown",
   "id": "c8006fdd",
   "metadata": {},
   "source": [
    "**🎉 Congratulations!** You’ve now tackled **data cleaning** and many essential **Pandas** operations in `students.csv` and `enrollments.json`. Keep experimenting to sharpen your **data manipulation skills** and unlock deeper insights! 💪"
   ]
  },
  {
   "cell_type": "markdown",
   "id": "16cb0e1d-5f48-4da4-99cb-179e58b862ac",
   "metadata": {},
   "source": [
    "# **Example Solutions**\n",
    "\n",
    "Below is a **revised solutions section** that demonstrates **practical outputs** in each step, handles **admission_year** as an integer, and shows **three merge alternatives** (inner, left, outer). We also show some **data cleaning** for special cases (e.g., the string `\"twenty twenty two\"`). Adjust column names and file paths as needed to match your exact data.\n",
    "\n",
    "---\n",
    "\n",
    "## **1. Load a CSV File into a Pandas DataFrame**\n",
    "\n",
    "**Discussion:**  \n",
    "We’ll import **Pandas** and load two files:\n",
    "- **students.csv** → `stu`\n",
    "- **enrollments.json** → `enr`\n",
    "\n",
    "**We also** display the **shape** of the DataFrames to ensure that they loaded correctly.\n",
    "\n",
    "```python\n",
    "import pandas as pd\n",
    "\n",
    "# 1) Load students.csv and enrollments.json\n",
    "stu = pd.read_csv(\"students.csv\")\n",
    "enr = pd.read_json(\"enrollments.json\")\n",
    "\n",
    "# 2) Show shape and a brief peek to confirm loading\n",
    "print(\"Students shape:\", stu.shape)\n",
    "print(\"Enrollments shape:\", enr.shape)\n",
    "\n",
    "print(\"\\n=== Students (first 3 rows) ===\")\n",
    "display(stu.head(3))\n",
    "\n",
    "print(\"\\n=== Enrollments (first 3 rows) ===\")\n",
    "display(enr.head(3))\n",
    "```\n",
    "\n",
    "**Insight:**  \n",
    "Think of **students.csv** like a \"directory\" of people, and **enrollments.json** like \"course registrations\" for those people. Each dataset focuses on a different dimension.\n",
    "\n",
    "---\n",
    "\n",
    "## **2. View the First and Last Few Rows of Each DataFrame**\n",
    "\n",
    "**Discussion:**  \n",
    "- `.head()` reveals the first few rows (default 5).\n",
    "- `.tail()` reveals the last few rows.\n",
    "- Great for a quick sanity check.\n",
    "\n",
    "```python\n",
    "print(\"=== Students: First 2 ===\")\n",
    "display(stu.head(2))\n",
    "\n",
    "print(\"\\n=== Students: Last 2 ===\")\n",
    "display(stu.tail(2))\n",
    "\n",
    "print(\"\\n=== Enrollments: First 2 ===\")\n",
    "display(enr.head(2))\n",
    "\n",
    "print(\"\\n=== Enrollments: Last 2 ===\")\n",
    "display(enr.tail(2))\n",
    "```\n",
    "\n",
    "**Tip:**  \n",
    "\".head()\" and \".tail()\" are like flipping through the first and last pages of a big ledger to see if data is correct.\n",
    "\n",
    "---\n",
    "\n",
    "## **3. Check the Shape of Each DataFrame**\n",
    "\n",
    "**Discussion:**  \n",
    "- `.shape` returns `(rows, columns)`.\n",
    "- We might want to ensure `stu` and `enr` have the rows/columns we expect.\n",
    "\n",
    "```python\n",
    "print(\"Students shape:\", stu.shape)\n",
    "print(\"Enrollments shape:\", enr.shape)\n",
    "```\n",
    "\n",
    "---\n",
    "\n",
    "## **4. Get a Summary of Each DataFrame**\n",
    "\n",
    "**Discussion:**  \n",
    "1. `.info()` → column names, data types, non-null counts.  \n",
    "2. `.describe()` → descriptive stats for numeric columns.\n",
    "\n",
    "```python\n",
    "# Show column info\n",
    "print(\"=== Students Info ===\")\n",
    "stu.info()\n",
    "print(\"\\n=== Enrollments Info ===\")\n",
    "enr.info()\n",
    "\n",
    "# Show numeric stats\n",
    "print(\"\\n=== Students Describe ===\")\n",
    "display(stu.describe(include='all'))  # 'all' to see object columns if you wish\n",
    "print(\"\\n=== Enrollments Describe ===\")\n",
    "display(enr.describe(include='all'))\n",
    "```\n",
    "\n",
    "**Insight:**  \n",
    "- If you see `object` for a numeric column, that signals a need for type conversion (see Challenge 7).  \n",
    "- Use `.describe(include='all')` to see summary of non-numeric columns.\n",
    "\n",
    "---\n",
    "\n",
    "## **5. Check for Missing Values**\n",
    "\n",
    "**Discussion:**  \n",
    "- `.isnull().sum()` shows how many nulls per column.  \n",
    "- Good for planning how to handle missing data.\n",
    "\n",
    "```python\n",
    "print(\"=== Missing in Students ===\")\n",
    "print(stu.isnull().sum())\n",
    "\n",
    "print(\"\\n=== Missing in Enrollments ===\")\n",
    "print(enr.isnull().sum())\n",
    "```\n",
    "\n",
    "**Tip:**  \n",
    "- You might also want to check for empty strings. For example:\n",
    "  ```python\n",
    "  (stu[\"first_name\"] == \"\").sum()\n",
    "  ```\n",
    "\n",
    "---\n",
    "\n",
    "## **6. Rename Columns for Clarity and Consistency**\n",
    "\n",
    "**Discussion:**  \n",
    "- If you see columns like `\"First_Name\"` or `\"current gpa\"`, rename them to `\"first_name\"` or `\"current_gpa\"`.  \n",
    "- This helps avoid typos, KeyErrors, and confusion.\n",
    "\n",
    "```python\n",
    "stu = stu.rename(columns={\n",
    "    \"First_Name\": \"first_name\",\n",
    "    \"last_name\": \"last_name\",\n",
    "    \"Birthddate\": \"birthdate\",\n",
    "    \"majorField\": \"major\",\n",
    "    \"current gpa\": \"current_gpa\",\n",
    "    \"mobile number\": \"mobile_number\",\n",
    "    \"HOME COUNTRY\": \"home_country\"\n",
    "})\n",
    "\n",
    "enr = enr.rename(columns={\n",
    "    \"stud_ref_id\": \"student_id\"\n",
    "})\n",
    "\n",
    "print(\"\\nRenamed columns in 'stu':\", stu.columns.tolist())\n",
    "print(\"Renamed columns in 'enr':\", enr.columns.tolist())\n",
    "```\n",
    "\n",
    "**Analogy:**  \n",
    "Renaming columns is like labeling boxes with consistent names so you can always find what you need.\n",
    "\n",
    "---\n",
    "\n",
    "## **7. Convert Data Types Where Needed**\n",
    "\n",
    "**Discussion:**  \n",
    "- Convert numeric columns from strings using `pd.to_numeric`.\n",
    "- Convert date columns using `pd.to_datetime`.\n",
    "- If some values are invalid (like `\"twenty twenty two\"`), `errors='coerce'` will produce `NaN`. We can fix them next.\n",
    "\n",
    "```python\n",
    "# Convert admission_year to numeric\n",
    "stu[\"admission_year\"] = pd.to_numeric(stu[\"admission_year\"], errors=\"coerce\")\n",
    "\n",
    "# For any that remain NaN, let's fill them with 2022 if we suspect they're actually 2022 or use a default\n",
    "stu[\"admission_year\"] = stu[\"admission_year\"].fillna(2022)\n",
    "\n",
    "# If we want admission_year to be an integer (not float):\n",
    "stu[\"admission_year\"] = stu[\"admission_year\"].astype(int)\n",
    "\n",
    "# Convert current_gpa to numeric\n",
    "stu[\"current_gpa\"] = pd.to_numeric(stu[\"current_gpa\"], errors=\"coerce\")\n",
    "\n",
    "# Convert birthdate to datetime\n",
    "stu[\"birthdate\"] = pd.to_datetime(stu[\"birthdate\"], errors=\"coerce\")\n",
    "\n",
    "# Convert enrollments\n",
    "enr[\"course_fee\"] = pd.to_numeric(enr[\"course_fee\"], errors=\"coerce\")\n",
    "enr[\"date_enrolled\"] = pd.to_datetime(enr[\"date_enrolled\"], errors=\"coerce\")\n",
    "\n",
    "print(\"\\nUnique admission_year values:\", stu[\"admission_year\"].unique())\n",
    "print(\"Unique current_gpa values (first 10):\", stu[\"current_gpa\"].unique()[:10])\n",
    "```\n",
    "\n",
    "**Insight:**  \n",
    "- If a column like `admission_year` might have truly unknown values, you can fill them with 0 or another sentinel (e.g., 9999).  \n",
    "- By converting to `int`, you guarantee no decimal points.\n",
    "\n",
    "---\n",
    "\n",
    "## **8. Fill Missing Values with a Specified Value or Method**\n",
    "\n",
    "**Discussion:**  \n",
    "- Instead of dropping rows with missing data, we can fill them.  \n",
    "- For instance, `major` could become `\"Undeclared\"`, `current_gpa` might use the mean, etc.\n",
    "\n",
    "```python\n",
    "# Fill missing major with 'Undeclared'\n",
    "stu[\"major\"] = stu[\"major\"].fillna(\"Undeclared\")\n",
    "\n",
    "# If current_gpa is missing, fill with the average\n",
    "gpa_mean = stu[\"current_gpa\"].mean()\n",
    "stu[\"current_gpa\"] = stu[\"current_gpa\"].fillna(gpa_mean)\n",
    "\n",
    "# For enrollments, fill missing course_fee with 0\n",
    "enr[\"course_fee\"] = enr[\"course_fee\"].fillna(0)\n",
    "```\n",
    "\n",
    "**Tip:**  \n",
    "- For text columns, `\"Unknown\"` is common. For numeric, consider mean, median, or domain-specific values.\n",
    "\n",
    "---\n",
    "\n",
    "## **9. Drop Rows or Columns with Missing Values (If Needed)**\n",
    "\n",
    "**Discussion:**  \n",
    "- After some fills, you might still have columns or rows with unresolvable missing data.  \n",
    "- `.dropna()` can remove them. Choose rows (`axis=0`) or columns (`axis=1`).\n",
    "\n",
    "```python\n",
    "# Example: Drop rows in stu if birthdate is still missing\n",
    "stu = stu.dropna(subset=[\"birthdate\"])\n",
    "print(\"After dropping missing birthdates, shape:\", stu.shape)\n",
    "\n",
    "# Example: Drop columns in enr if we still have large missing data\n",
    "enr = enr.dropna(axis=1, how='all')\n",
    "print(\"After dropping entirely-empty columns in enr, shape:\", enr.shape)\n",
    "```\n",
    "\n",
    "**Insight:**  \n",
    "- Double-check `.shape` so you don’t remove too many rows or columns accidentally.\n",
    "\n",
    "---\n",
    "\n",
    "## **10. Filter Rows Based on a Condition**\n",
    "\n",
    "**Discussion:**  \n",
    "- Now that columns like `admission_year` or `course_fee` are numeric, we can do numeric filtering.  \n",
    "- You might also filter by string (e.g., `term_offered == \"Spring 2026\"`).\n",
    "\n",
    "```python\n",
    "# Students admitted after 2020\n",
    "stu_newest = stu[stu[\"admission_year\"] > 2020]\n",
    "print(\"Students admitted after 2020:\", stu_newest.shape[0])\n",
    "\n",
    "# Enrollments for 'Spring 2026'\n",
    "enr_spring = enr[enr[\"term_offered\"] == \"Spring 2026\"]\n",
    "print(\"Spring 2026 enrollments:\", enr_spring.shape[0])\n",
    "```\n",
    "\n",
    "**Tip:**  \n",
    "- Combine conditions with `&`, `|`:\n",
    "  ```python\n",
    "  stu[(stu[\"admission_year\"] > 2020) & (stu[\"gender\"] == \"F\")]\n",
    "  ```\n",
    "\n",
    "---\n",
    "\n",
    "## **11. Select Specific Columns from Each DataFrame**\n",
    "\n",
    "**Discussion:**  \n",
    "- Often you only want a subset for clarity.  \n",
    "- E.g., keep `student_id`, `first_name`, `last_name`, `current_gpa` from students.\n",
    "\n",
    "```python\n",
    "stu_subset = stu[[\"student_id\", \"first_name\", \"last_name\", \"admission_year\", \"current_gpa\", \"major\"]]\n",
    "enr_subset = enr[[\"student_id\", \"subject_code\", \"course_title\", \"instructor_name\", \"course_fee\", \"term_offered\"]]\n",
    "\n",
    "print(\"\\n=== Students subset (first 2 rows) ===\")\n",
    "display(stu_subset.head(2))\n",
    "\n",
    "print(\"\\n=== Enrollments subset (first 2 rows) ===\")\n",
    "display(enr_subset.head(2))\n",
    "```\n",
    "\n",
    "**Analogy:**  \n",
    "- Like choosing which columns to display in a final report.\n",
    "\n",
    "---\n",
    "\n",
    "## **12. Sort the DataFrame by One or More Columns**\n",
    "\n",
    "**Discussion:**  \n",
    "- Sorting helps quickly identify highest or lowest values.  \n",
    "- For multiple columns, pass a list.\n",
    "\n",
    "```python\n",
    "# Sort students by current_gpa descending\n",
    "stu_sorted = stu.sort_values(\"current_gpa\", ascending=False)\n",
    "print(\"Top 3 by current_gpa:\")\n",
    "display(stu_sorted.head(3))\n",
    "\n",
    "# Sort enrollments by course_fee ascending\n",
    "enr_sorted = enr.sort_values(\"course_fee\")\n",
    "print(\"First 3 by course_fee:\")\n",
    "display(enr_sorted.head(3))\n",
    "```\n",
    "\n",
    "---\n",
    "\n",
    "## **13. Group Data by a Column and Compute Aggregate Functions**\n",
    "\n",
    "**Discussion:**  \n",
    "- `.groupby()` helps you see aggregated values.  \n",
    "- E.g., average `current_gpa` by `major`, average `course_fee` by `subject_code`.\n",
    "\n",
    "```python\n",
    "gpa_by_major = stu.groupby(\"major\")[\"current_gpa\"].mean()\n",
    "fee_by_subject = enr.groupby(\"subject_code\")[\"course_fee\"].mean()\n",
    "\n",
    "print(\"=== Average GPA by Major ===\")\n",
    "display(gpa_by_major)\n",
    "\n",
    "print(\"\\n=== Average Fee by Subject Code ===\")\n",
    "display(fee_by_subject)\n",
    "```\n",
    "\n",
    "**Insight:**  \n",
    "- Add `.agg([\"mean\", \"count\", \"max\"])` for more stats in one line.\n",
    "\n",
    "---\n",
    "\n",
    "## **14. Apply a Custom Function**\n",
    "\n",
    "**Discussion:**  \n",
    "- You can define a Python function to fix or standardize text, then `.apply()` it across a Series (column).  \n",
    "- Great for normalizing inconsistent entries, e.g., `'dr. smith'`, `'Dr. Smith'`.\n",
    "\n",
    "```python\n",
    "def titlecase_instructor(name):\n",
    "    if pd.isnull(name):\n",
    "        return name\n",
    "    return str(name).title()\n",
    "\n",
    "enr[\"instructor_name\"] = enr[\"instructor_name\"].apply(titlecase_instructor)\n",
    "\n",
    "# Another example: uppercase last_name in stu\n",
    "def uppercase_lastname(name):\n",
    "    if pd.isnull(name):\n",
    "        return name\n",
    "    return str(name).upper()\n",
    "\n",
    "stu[\"last_name\"] = stu[\"last_name\"].apply(uppercase_lastname)\n",
    "\n",
    "print(\"After applying custom funcs:\")\n",
    "display(stu.head(2))\n",
    "display(enr.head(2))\n",
    "```\n",
    "\n",
    "**Tip:**  \n",
    "- If you prefer inline lambdas:\n",
    "  ```python\n",
    "  enr[\"instructor_name\"] = enr[\"instructor_name\"].apply(lambda x: str(x).title() if x else x)\n",
    "  ```\n",
    "\n",
    "---\n",
    "\n",
    "## **15. Create a New Column Based on Existing Ones**\n",
    "\n",
    "**Discussion:**  \n",
    "- Combine fields (e.g., `first_name + last_name` → `full_name`).\n",
    "- Do arithmetic (e.g., `course_fee * 1.08` → `fees_after_tax`).\n",
    "\n",
    "```python\n",
    "stu[\"full_name\"] = stu[\"first_name\"] + \" \" + stu[\"last_name\"]\n",
    "enr[\"fees_after_tax\"] = enr[\"course_fee\"] * 1.08\n",
    "\n",
    "print(\"\\n=== Students with new 'full_name' ===\")\n",
    "display(stu[[\"student_id\", \"full_name\"]].head(3))\n",
    "\n",
    "print(\"\\n=== Enrollments with new 'fees_after_tax' ===\")\n",
    "display(enr[[\"student_id\", \"course_title\", \"course_fee\", \"fees_after_tax\"]].head(3))\n",
    "```\n",
    "\n",
    "**Analogy:**  \n",
    "- Similar to an Excel formula that references other columns.\n",
    "\n",
    "---\n",
    "\n",
    "## **16. Merge Two DataFrames on a Common Column**\n",
    "\n",
    "**Discussion:**  \n",
    "- Typically, the join key is `student_id`.  \n",
    "- Because a single student can appear multiple times in `enr`, you get **one-to-many** rows in the result.\n",
    "\n",
    "### **Option A: Inner Merge**\n",
    "Only matches rows present in **both** DataFrames.  \n",
    "\n",
    "```python\n",
    "merged_inner = stu.merge(enr, on=\"student_id\", how=\"inner\")\n",
    "print(\"\\n[Inner Merge] shape:\", merged_inner.shape)\n",
    "display(merged_inner.head(2))\n",
    "```\n",
    "\n",
    "### **Option B: Left Merge**\n",
    "Keeps **all students** from `stu`, even if they have no matching enrollment. Missing enrollments appear as NaN.  \n",
    "\n",
    "```python\n",
    "merged_left = stu.merge(enr, on=\"student_id\", how=\"left\")\n",
    "print(\"\\n[Left Merge] shape:\", merged_left.shape)\n",
    "display(merged_left.head(2))\n",
    "```\n",
    "\n",
    "### **Option C: Outer Merge**\n",
    "Keeps **all rows** from **both** DataFrames. Students not found in `enr` or vice versa become NaN in the unmatched columns.  \n",
    "\n",
    "```python\n",
    "merged_outer = stu.merge(enr, on=\"student_id\", how=\"outer\")\n",
    "print(\"\\n[Outer Merge] shape:\", merged_outer.shape)\n",
    "display(merged_outer.head(2))\n",
    "```\n",
    "\n",
    "**Tip:**  \n",
    "- Use `how=\"right\"` if you want all enrollment rows, even if the student isn’t in `stu`.  \n",
    "- Typically, universities use a left or inner join. Outer is less common but can help find mismatches.\n",
    "\n",
    "---\n",
    "\n",
    "## **17. Remove Duplicate Rows**\n",
    "\n",
    "**Discussion:**  \n",
    "- In real data, you might see exact duplicates or accidental double-entries.  \n",
    "- `.drop_duplicates()` keeps the first occurrence.\n",
    "\n",
    "```python\n",
    "merged_df = merged_inner.copy()  # We'll keep the 'inner' result for final usage\n",
    "deduped_df = merged_df.drop_duplicates()\n",
    "print(\"Before duplicates removal:\", merged_df.shape, \"After:\", deduped_df.shape)\n",
    "```\n",
    "\n",
    "**Tip:**  \n",
    "- If your definition of \"duplicate\" is specific (e.g., same student_id AND same course_title), use `subset=[\"student_id\", \"course_title\"]`.\n",
    "\n",
    "---\n",
    "\n",
    "## **18. Additional Data Cleaning**\n",
    "\n",
    "**Discussion:**  \n",
    "- E.g., fix negative phone numbers or remove erroneous subject codes (`\"HIST999\"`).  \n",
    "- We do these final touches to polish the dataset.\n",
    "\n",
    "```python\n",
    "# Example: fix negative phone numbers in 'stu'\n",
    "stu[\"mobile_number\"] = stu[\"mobile_number\"].apply(lambda x: abs(x) if pd.notnull(x) else x)\n",
    "\n",
    "# Example: remove spurious enrollment code \"HIST999\"\n",
    "deduped_df = deduped_df[deduped_df[\"subject_code\"] != \"HIST999\"]\n",
    "\n",
    "print(\"Final deduped shape:\", deduped_df.shape)\n",
    "display(deduped_df.head(2))\n",
    "```\n",
    "\n",
    "**Analogy:**  \n",
    "- Think of this like the final polishing or proofread before publishing a report.\n",
    "\n",
    "---\n",
    "\n",
    "## **19. Save the Cleaned and Merged DataFrame to a New CSV File**\n",
    "\n",
    "**Discussion:**  \n",
    "- Once satisfied, export. `index=False` avoids an extra \"index\" column in your CSV.\n",
    "\n",
    "```python\n",
    "deduped_df.to_csv(\"cleaned_students_enrollments.csv\", index=False)\n",
    "print(\"Saved final data to 'cleaned_students_enrollments.csv'.\")\n",
    "```\n",
    "\n",
    "**Tip:**  \n",
    "- You can also do `to_excel(\"mydata.xlsx\")` or `to_json(\"mydata.json\")` if desired.\n",
    "\n",
    "---\n",
    "\n",
    "## **20. Explore Further Analyses (Optional)**\n",
    "\n",
    "**Discussion:**  \n",
    "- With a clean, merged dataset, you can do advanced tasks:\n",
    "  - Visualizations (e.g., `matplotlib`, `seaborn`)\n",
    "  - Pivot tables\n",
    "  - Machine learning\n",
    "\n",
    "```python\n",
    "# Quick example: histogram of admission_year\n",
    "stu[\"admission_year\"].hist(bins=10)\n",
    "```\n",
    "\n",
    "**Insight:**  \n",
    "- This is where the real analysis begins—our data is now consistent and well-organized!\n",
    "\n",
    "---\n",
    "\n",
    "## **Final Thoughts**\n",
    "\n",
    "1. **Handling Admission Year as Integer**  \n",
    "   - We used `pd.to_numeric(..., errors='coerce')` followed by `.fillna(...)` and `.astype(int)` so `admission_year` is properly an integer.\n",
    "\n",
    "2. **Merging Strategies**  \n",
    "   - We demonstrated **inner**, **left**, and **outer** merges.  \n",
    "   - **Inner** → only matches present in both.  \n",
    "   - **Left** → all students, match enrollments where possible.  \n",
    "   - **Outer** → keep everything from both sides, even if unmatched.\n",
    "\n",
    "3. **Practical Output**  \n",
    "   - We used `display(...)` and `print(...)` to show shapes and head results. This helps confirm we achieved the **desired** transformations.\n",
    "\n",
    "4. **Continue Testing**  \n",
    "   - Always keep verifying with `.shape`, `.head()`, and `.isnull().sum()` after changes.  \n",
    "   - Domain knowledge helps finalize decisions about missing data, duplicates, or outlier removal.\n",
    "\n",
    "Enjoy your journey with **Pandas**! \n"
   ]
  },
  {
   "cell_type": "code",
   "execution_count": null,
   "id": "66baf0fb-eb2b-46b0-bd90-c0c9ecbf2954",
   "metadata": {},
   "outputs": [],
   "source": []
  },
  {
   "cell_type": "code",
   "execution_count": null,
   "id": "e2b45d89-b6ac-488b-8c21-b42d6264c3c9",
   "metadata": {},
   "outputs": [],
   "source": []
  }
 ],
 "metadata": {
  "jupytext": {
   "cell_metadata_filter": "-all",
   "main_language": "python",
   "notebook_metadata_filter": "-all"
  },
  "kernelspec": {
   "display_name": "Python 3 (ipykernel)",
   "language": "python",
   "name": "python3"
  },
  "language_info": {
   "codemirror_mode": {
    "name": "ipython",
    "version": 3
   },
   "file_extension": ".py",
   "mimetype": "text/x-python",
   "name": "python",
   "nbconvert_exporter": "python",
   "pygments_lexer": "ipython3",
   "version": "3.12.2"
  }
 },
 "nbformat": 4,
 "nbformat_minor": 5
}
