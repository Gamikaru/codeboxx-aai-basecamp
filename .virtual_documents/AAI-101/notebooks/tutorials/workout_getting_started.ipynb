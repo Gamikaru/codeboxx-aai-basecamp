








import pandas as pd
import matplotlib as plt


ave_prices = pd.read_csv("../data/Average-prices-2024-07.csv")



ave_prices.head()


ave_prices.tail()


ave_prices.info()


ave_prices.describe()


ave_prices.dtypes





ave_prices["Region_Name"]


ave_prices[["Region_Name", "Average_Price"]]


ave_prices[ave_prices["Average_Price"]>200000]


ave_prices[(ave_prices["Average_Price"]<200000) & (ave_prices["Region_Name"] == "Kensington and Chelsea")]


ave_prices.iloc[10:21]


ave_prices.loc[:,"Date"]


london = ave_prices.loc[ave_prices["Area_Code"].str.startswith("E09")]
london


high_prices = ave_prices.loc[ave_prices["Average_Price"]>100000]
high_prices.head()


negative_change = ave_prices.loc[ave_prices['Annual_Change'] < 0]
negative_change


ave_prices.iloc[10:21,2:5]


england.plot()


england.plot.hist(bins=20)


# First, i need to change Date column to datetime format
ave_prices["Date"] = pd.to_datetime(ave_prices["Date"])


_2010_2024 = ave_prices.loc[(ave_prices["Date"].dt.year>=2010)&(ave_prices["Date"].dt.year<=2024)]
_2010_2024


london = _2010_2024.loc[_2010_2024["Area_Code"].str.startswith("E09")]


import matplotlib.pyplot as plt
import seaborn as sns

# Set the figure size
plt.figure(figsize=(12,6))

# Get unique region names
regions = london["Region_Name"].unique()

# Use Seaborn color palette for different regions
colors = sns.color_palette("tab10", len(regions))

# Plot each region separately with a unique color
for i, region in enumerate(regions):
    subset = london[london["Region_Name"] == region]
    plt.scatter(subset["Date"], subset["Average_Price"], color=colors[i], label=region, alpha=0.6)

# Labels and title
plt.xlabel("Year")
plt.ylabel("Average Price (£)")
plt.title("Average House Prices in Inner London Regions (2010-2024)")
plt.xticks(rotation=45)
plt.legend(title="Region", bbox_to_anchor=(1.05, 1), loc='upper left')  # Move legend outside plot
plt.grid(True)

plt.show()



plt.figure(figsize=(12,6))

# Plot as a line graph
for i, region in enumerate(regions):
    subset = london[london["Region_Name"] == region]
    plt.plot(subset["Date"], subset["Average_Price"], marker='o', color=colors[i], label=region, alpha=0.6)

plt.xlabel("Year")
plt.ylabel("Average Price (£)")
plt.title("Average House Prices in Inner London Regions (2010-2024)")
plt.xticks(rotation=45)
plt.legend(title="Region", bbox_to_anchor=(1.05, 1), loc='upper left')
plt.grid(True)

plt.show()



# Aggregate data to yearly averages
london["Year"] = london["Date"].dt.year  # Extract year
yearly_avg = london.groupby(["Year", "Region_Name"])["Average_Price"].mean().reset_index()

# Plot
plt.figure(figsize=(12,6))

for i, region in enumerate(regions):
    subset = yearly_avg[yearly_avg["Region_Name"] == region]
    plt.plot(subset["Year"], subset["Average_Price"], marker='o', color=colors[i], label=region, alpha=0.6)

plt.xlabel("Year")
plt.ylabel("Average Price (£)")
plt.title("Yearly Average House Prices in Inner London (2010-2024)")
plt.xticks(rotation=45)
plt.legend(title="Region", bbox_to_anchor=(1.05, 1), loc='upper left')
plt.grid(True)

plt.show()


































