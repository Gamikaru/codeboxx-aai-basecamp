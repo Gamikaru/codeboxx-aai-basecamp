


from sklearn.datasets import load_iris, load_wine
import pandas as pd


raw_data = load_iris()
df = pd.DataFrame(raw_data.data, columns=raw_data.feature_names)
df.head()





df.shape


df.columns


df.dtypes


df.isnull().sum()


df.describe()





df.head(10)


# or, use iloc for explicit indexing:
df.iloc[:10]


df.select_dtypes(include=['number'])


#alterntaive: 
# df.select_dtypes(include=['int64', 'float64'])


# df["sepal length (cm)"] #is the sepal length series. 
median = df["sepal length (cm)"].median()
df1 = df[df["sepal length (cm)"] > median]

# Check for any values in the sepal length column greater than median
if (df1["sepal length (cm)"]<=5.8).any():
    print("the operation failed. Try again.")
else: 
    print("The median sepal length is:", median)


# using query:
df.query("`sepal length (cm)` > @median")


numeric_cols = df.select_dtypes(include='number').columns
if len(numeric_cols) > 0: # --> we can also use if numeric_cols.any():
    last_numeric_col = numeric_cols[-1]
    print("Last numeric column:", last_numeric_col)
else:
    print("No numeric columns found")

last_col_max = df[last_numeric_col].max()
max_row = df.loc[df[last_numeric_col].idxmax()]

#check if there are any values greater than this:
if (df[last_numeric_col]>last_col_max).any():
    print("The operation failed. Try again")
else: 
    print("The max value in the last numeric column is:", last_col_max)
    print(f"The corresponding row is:\n{max_row}")









df.columns = df.columns.str.lower()
df.head()


df.columns = df.columns.str.lower().str.replace(' ','_').str.replace(r'[^\w]', '', regex=True)
df.head()


# df["feature_sum"]=df.sum(axis=1) --> this can only be performed once otherwise will include th enew column each time it's run
df["feature_sum"]=df.drop(columns=['feature_sum'], errors='ignore').sum(axis=1)
# df.drop(columns=['ID', 'C']).sum(axis=1)

df.head()


def normalize(df):
    return (df - df.min()) / (df.max() - df.min())

df_normalized = df.apply(normalize)
df_normalized.head()






