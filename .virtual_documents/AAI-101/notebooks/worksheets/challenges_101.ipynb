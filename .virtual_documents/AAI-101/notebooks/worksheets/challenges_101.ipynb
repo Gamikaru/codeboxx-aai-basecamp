


import pandas as pd
print(pd.__version__)








# your code here


# your code here





# your code here


# your code here


# your code here


# your code here





# your code here



# your code here





# your code here


# your code here


# your code here


# your code here





# your code here


# your code here


# your code here





# your code here


# your code here


# your code here


# your code here





# your code here


# your code here


# your code here





# your code here


# your code here


# your code here


# your code here





# your code here


# your code here


# your code here


# your code here





# your code here


# your code here


# your code here


# your code here





# your code here


# your code here


# your code here


# your code here





# your code here


# your code here


# your code here


# your code here





# your code here


# your code here


# your code here


# your code here





# your code here


# your code here


# your code here


# your code here





# your code here


# your code here


# your code here


# your code here





# your code here


# your code here


# your code here


# your code here





# your code here


# your code here


# your code here


# your code here





# your code here


# your code here


# your code here


# your code here





# your code here


# your code here


# your code here


# your code here





# your code here


# your code here


# your code here


# your code here












